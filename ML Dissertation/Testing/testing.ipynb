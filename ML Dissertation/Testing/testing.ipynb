{
 "cells": [
  {
   "cell_type": "code",
   "execution_count": 1,
   "metadata": {
    "vscode": {
     "languageId": "powershell"
    }
   },
   "outputs": [
    {
     "name": "stdout",
     "output_type": "stream",
     "text": [
      "Note: you may need to restart the kernel to use updated packages.Requirement already satisfied: numpy in c:\\users\\adamc\\appdata\\local\\programs\\python\\python311\\lib\\site-packages (1.25.2)\n",
      "Requirement already satisfied: pandas in c:\\users\\adamc\\appdata\\local\\programs\\python\\python311\\lib\\site-packages (2.1.0)\n",
      "Requirement already satisfied: matplotlib in c:\\users\\adamc\\appdata\\local\\programs\\python\\python311\\lib\\site-packages (3.7.2)\n",
      "Requirement already satisfied: seaborn in c:\\users\\adamc\\appdata\\local\\programs\\python\\python311\\lib\\site-packages (0.13.2)\n",
      "Requirement already satisfied: flwr in c:\\users\\adamc\\appdata\\local\\programs\\python\\python311\\lib\\site-packages (1.7.0)\n",
      "Requirement already satisfied: python-dateutil>=2.8.2 in c:\\users\\adamc\\appdata\\local\\programs\\python\\python311\\lib\\site-packages (from pandas) (2.8.2)\n",
      "Requirement already satisfied: pytz>=2020.1 in c:\\users\\adamc\\appdata\\local\\programs\\python\\python311\\lib\\site-packages (from pandas) (2022.7)\n",
      "Requirement already satisfied: tzdata>=2022.1 in c:\\users\\adamc\\appdata\\local\\programs\\python\\python311\\lib\\site-packages (from pandas) (2023.3)\n",
      "Requirement already satisfied: contourpy>=1.0.1 in c:\\users\\adamc\\appdata\\local\\programs\\python\\python311\\lib\\site-packages (from matplotlib) (1.1.0)\n",
      "Requirement already satisfied: cycler>=0.10 in c:\\users\\adamc\\appdata\\local\\programs\\python\\python311\\lib\\site-packages (from matplotlib) (0.11.0)\n",
      "Requirement already satisfied: fonttools>=4.22.0 in c:\\users\\adamc\\appdata\\local\\programs\\python\\python311\\lib\\site-packages (from matplotlib) (4.42.1)\n",
      "Requirement already satisfied: kiwisolver>=1.0.1 in c:\\users\\adamc\\appdata\\local\\programs\\python\\python311\\lib\\site-packages (from matplotlib) (1.4.5)\n",
      "Requirement already satisfied: packaging>=20.0 in c:\\users\\adamc\\appdata\\local\\programs\\python\\python311\\lib\\site-packages (from matplotlib) (22.0)\n",
      "Requirement already satisfied: pillow>=6.2.0 in c:\\users\\adamc\\appdata\\local\\programs\\python\\python311\\lib\\site-packages (from matplotlib) (10.0.0)\n",
      "Requirement already satisfied: pyparsing<3.1,>=2.3.1 in c:\\users\\adamc\\appdata\\local\\programs\\python\\python311\\lib\\site-packages (from matplotlib) (3.0.9)\n",
      "Requirement already satisfied: cryptography<42.0.0,>=41.0.2 in c:\\users\\adamc\\appdata\\local\\programs\\python\\python311\\lib\\site-packages (from flwr) (41.0.7)\n",
      "Requirement already satisfied: grpcio<2.0.0,>=1.60.0 in c:\\users\\adamc\\appdata\\local\\programs\\python\\python311\\lib\\site-packages (from flwr) (1.60.1)\n",
      "Requirement already satisfied: iterators<0.0.3,>=0.0.2 in c:\\users\\adamc\\appdata\\local\\programs\\python\\python311\\lib\\site-packages (from flwr) (0.0.2)\n",
      "Requirement already satisfied: protobuf<5.0.0,>=4.25.2 in c:\\users\\adamc\\appdata\\local\\programs\\python\\python311\\lib\\site-packages (from flwr) (4.25.3)\n",
      "Requirement already satisfied: pycryptodome<4.0.0,>=3.18.0 in c:\\users\\adamc\\appdata\\local\\programs\\python\\python311\\lib\\site-packages (from flwr) (3.20.0)\n",
      "Requirement already satisfied: cffi>=1.12 in c:\\users\\adamc\\appdata\\local\\programs\\python\\python311\\lib\\site-packages (from cryptography<42.0.0,>=41.0.2->flwr) (1.15.1)\n",
      "Requirement already satisfied: six>=1.5 in c:\\users\\adamc\\appdata\\local\\programs\\python\\python311\\lib\\site-packages (from python-dateutil>=2.8.2->pandas) (1.16.0)\n",
      "Requirement already satisfied: pycparser in c:\\users\\adamc\\appdata\\local\\programs\\python\\python311\\lib\\site-packages (from cffi>=1.12->cryptography<42.0.0,>=41.0.2->flwr) (2.21)\n",
      "\n"
     ]
    },
    {
     "name": "stderr",
     "output_type": "stream",
     "text": [
      "\n",
      "[notice] A new release of pip is available: 23.3.1 -> 24.0\n",
      "[notice] To update, run: python.exe -m pip install --upgrade pip\n"
     ]
    }
   ],
   "source": [
    "pip install numpy pandas matplotlib seaborn flwr"
   ]
  },
  {
   "cell_type": "code",
   "execution_count": 2,
   "metadata": {},
   "outputs": [],
   "source": [
    "import numpy as np\n",
    "import pandas as pd\n",
    "import matplotlib.pyplot as plt\n",
    "import seaborn as sns\n",
    "import flwr as fl\n",
    "from typing import Tuple, List"
   ]
  },
  {
   "cell_type": "code",
   "execution_count": 4,
   "metadata": {},
   "outputs": [],
   "source": [
    "import sklearn as skl\n",
    "from sklearn import metrics, linear_model\n",
    "from sklearn.metrics import accuracy_score, precision_score, recall_score, f1_score, roc_auc_score\n",
    "from sklearn.ensemble import IsolationForest"
   ]
  },
  {
   "cell_type": "code",
   "execution_count": null,
   "metadata": {},
   "outputs": [],
   "source": []
  },
  {
   "cell_type": "code",
   "execution_count": null,
   "metadata": {},
   "outputs": [],
   "source": [
    "import torch\n",
    "import torch.nn as nn\n",
    "import torch.nn.functional as F\n",
    "from torch.utils.data import Dataset, DataLoader\n",
    "import warnings\n",
    "warnings.filterwarnings(\"ignore\")"
   ]
  },
  {
   "cell_type": "code",
   "execution_count": null,
   "metadata": {},
   "outputs": [],
   "source": [
    "##Preprocessing##\n",
    "columns = ([])\n",
    "example1 = pd.read_csv('HomeLab\\ML Dissertation\\Datasets\\CIC-2017') #Network Actiity\n",
    "example2 = pd.read_csv('HomeLab\\ML Dissertation\\Datasets\\ember2018') #Host acitivty\n",
    "merged_df = pd.concat([example1, example2], names= columns) #Merged Network and Host Activity\n"
   ]
  },
  {
   "cell_type": "code",
   "execution_count": null,
   "metadata": {},
   "outputs": [],
   "source": [
    "train_df = pd.read_csv(\"train.csv\", names=, )\n",
    "\n",
    "test_df = pd.read_csv(\"test.csv\")\n",
    "\n",
    "validation_df = pd.read_csv(\"validation.csv\")"
   ]
  },
  {
   "cell_type": "code",
   "execution_count": null,
   "metadata": {},
   "outputs": [],
   "source": []
  },
  {
   "cell_type": "code",
   "execution_count": null,
   "metadata": {},
   "outputs": [],
   "source": []
  },
  {
   "cell_type": "code",
   "execution_count": null,
   "metadata": {},
   "outputs": [],
   "source": []
  }
 ],
 "metadata": {
  "kernelspec": {
   "display_name": "Python 3",
   "language": "python",
   "name": "python3"
  },
  "language_info": {
   "codemirror_mode": {
    "name": "ipython",
    "version": 3
   },
   "file_extension": ".py",
   "mimetype": "text/x-python",
   "name": "python",
   "nbconvert_exporter": "python",
   "pygments_lexer": "ipython3",
   "version": "3.11.1"
  }
 },
 "nbformat": 4,
 "nbformat_minor": 2
}
