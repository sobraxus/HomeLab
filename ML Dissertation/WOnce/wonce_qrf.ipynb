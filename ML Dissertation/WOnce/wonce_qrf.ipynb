{
 "cells": [
  {
   "cell_type": "code",
   "execution_count": 1,
   "metadata": {},
   "outputs": [
    {
     "name": "stderr",
     "output_type": "stream",
     "text": [
      "INFO flwr 2024-05-01 16:23:31,661 | app.py:163 | Starting Flower server, config: ServerConfig(num_rounds=100, round_timeout=None)\n",
      "INFO flwr 2024-05-01 16:23:31,693 | app.py:176 | Flower ECE: gRPC server running (100 rounds), SSL is disabled\n",
      "INFO flwr 2024-05-01 16:23:31,693 | server.py:89 | Initializing global parameters\n",
      "INFO flwr 2024-05-01 16:23:31,694 | server.py:276 | Requesting initial parameters from one random client\n"
     ]
    },
    {
     "ename": "GrpcBridgeClosed",
     "evalue": "",
     "output_type": "error",
     "traceback": [
      "\u001b[1;31m---------------------------------------------------------------------------\u001b[0m",
      "\u001b[1;31mGrpcBridgeClosed\u001b[0m                          Traceback (most recent call last)",
      "Cell \u001b[1;32mIn[1], line 74\u001b[0m\n\u001b[0;32m     68\u001b[0m QRF_Utils\u001b[38;5;241m.\u001b[39mset_initial_params(model)\n\u001b[0;32m     69\u001b[0m strategy \u001b[38;5;241m=\u001b[39m fl\u001b[38;5;241m.\u001b[39mserver\u001b[38;5;241m.\u001b[39mstrategy\u001b[38;5;241m.\u001b[39mFedAvg(\n\u001b[0;32m     70\u001b[0m     min_available_clients\u001b[38;5;241m=\u001b[39m\u001b[38;5;241m2\u001b[39m,\n\u001b[0;32m     71\u001b[0m     evaluate_fn\u001b[38;5;241m=\u001b[39mget_evaluate_fn(model),\n\u001b[0;32m     72\u001b[0m     on_fit_config_fn\u001b[38;5;241m=\u001b[39mfit_round\n\u001b[0;32m     73\u001b[0m )\n\u001b[1;32m---> 74\u001b[0m \u001b[43mfl\u001b[49m\u001b[38;5;241;43m.\u001b[39;49m\u001b[43mserver\u001b[49m\u001b[38;5;241;43m.\u001b[39;49m\u001b[43mstart_server\u001b[49m\u001b[43m(\u001b[49m\u001b[43mserver_address\u001b[49m\u001b[38;5;241;43m=\u001b[39;49m\u001b[38;5;124;43m\"\u001b[39;49m\u001b[38;5;124;43m127.0.0.1:8080\u001b[39;49m\u001b[38;5;124;43m\"\u001b[39;49m\u001b[43m,\u001b[49m\u001b[43m \u001b[49m\u001b[43mstrategy\u001b[49m\u001b[38;5;241;43m=\u001b[39;49m\u001b[43mstrategy\u001b[49m\u001b[43m,\u001b[49m\u001b[43m \u001b[49m\u001b[43mconfig\u001b[49m\u001b[38;5;241;43m=\u001b[39;49m\u001b[43mfl\u001b[49m\u001b[38;5;241;43m.\u001b[39;49m\u001b[43mserver\u001b[49m\u001b[38;5;241;43m.\u001b[39;49m\u001b[43mServerConfig\u001b[49m\u001b[43m(\u001b[49m\u001b[43mnum_rounds\u001b[49m\u001b[38;5;241;43m=\u001b[39;49m\u001b[38;5;241;43m100\u001b[39;49m\u001b[43m)\u001b[49m\u001b[43m)\u001b[49m\n",
      "File \u001b[1;32mc:\\Users\\adamc\\AppData\\Local\\Programs\\Python\\Python311\\Lib\\site-packages\\flwr\\server\\app.py:184\u001b[0m, in \u001b[0;36mstart_server\u001b[1;34m(server_address, server, config, strategy, client_manager, grpc_max_message_length, certificates)\u001b[0m\n\u001b[0;32m    176\u001b[0m log(\n\u001b[0;32m    177\u001b[0m     INFO,\n\u001b[0;32m    178\u001b[0m     \u001b[38;5;124m\"\u001b[39m\u001b[38;5;124mFlower ECE: gRPC server running (\u001b[39m\u001b[38;5;132;01m%s\u001b[39;00m\u001b[38;5;124m rounds), SSL is \u001b[39m\u001b[38;5;132;01m%s\u001b[39;00m\u001b[38;5;124m\"\u001b[39m,\n\u001b[0;32m    179\u001b[0m     initialized_config\u001b[38;5;241m.\u001b[39mnum_rounds,\n\u001b[0;32m    180\u001b[0m     \u001b[38;5;124m\"\u001b[39m\u001b[38;5;124menabled\u001b[39m\u001b[38;5;124m\"\u001b[39m \u001b[38;5;28;01mif\u001b[39;00m certificates \u001b[38;5;129;01mis\u001b[39;00m \u001b[38;5;129;01mnot\u001b[39;00m \u001b[38;5;28;01mNone\u001b[39;00m \u001b[38;5;28;01melse\u001b[39;00m \u001b[38;5;124m\"\u001b[39m\u001b[38;5;124mdisabled\u001b[39m\u001b[38;5;124m\"\u001b[39m,\n\u001b[0;32m    181\u001b[0m )\n\u001b[0;32m    183\u001b[0m \u001b[38;5;66;03m# Start training\u001b[39;00m\n\u001b[1;32m--> 184\u001b[0m hist \u001b[38;5;241m=\u001b[39m \u001b[43mrun_fl\u001b[49m\u001b[43m(\u001b[49m\n\u001b[0;32m    185\u001b[0m \u001b[43m    \u001b[49m\u001b[43mserver\u001b[49m\u001b[38;5;241;43m=\u001b[39;49m\u001b[43minitialized_server\u001b[49m\u001b[43m,\u001b[49m\n\u001b[0;32m    186\u001b[0m \u001b[43m    \u001b[49m\u001b[43mconfig\u001b[49m\u001b[38;5;241;43m=\u001b[39;49m\u001b[43minitialized_config\u001b[49m\u001b[43m,\u001b[49m\n\u001b[0;32m    187\u001b[0m \u001b[43m\u001b[49m\u001b[43m)\u001b[49m\n\u001b[0;32m    189\u001b[0m \u001b[38;5;66;03m# Stop the gRPC server\u001b[39;00m\n\u001b[0;32m    190\u001b[0m grpc_server\u001b[38;5;241m.\u001b[39mstop(grace\u001b[38;5;241m=\u001b[39m\u001b[38;5;241m1\u001b[39m)\n",
      "File \u001b[1;32mc:\\Users\\adamc\\AppData\\Local\\Programs\\Python\\Python311\\Lib\\site-packages\\flwr\\server\\app.py:225\u001b[0m, in \u001b[0;36mrun_fl\u001b[1;34m(server, config)\u001b[0m\n\u001b[0;32m    220\u001b[0m \u001b[38;5;28;01mdef\u001b[39;00m \u001b[38;5;21mrun_fl\u001b[39m(\n\u001b[0;32m    221\u001b[0m     server: Server,\n\u001b[0;32m    222\u001b[0m     config: ServerConfig,\n\u001b[0;32m    223\u001b[0m ) \u001b[38;5;241m-\u001b[39m\u001b[38;5;241m>\u001b[39m History:\n\u001b[0;32m    224\u001b[0m \u001b[38;5;250m    \u001b[39m\u001b[38;5;124;03m\"\"\"Train a model on the given server and return the History object.\"\"\"\u001b[39;00m\n\u001b[1;32m--> 225\u001b[0m     hist \u001b[38;5;241m=\u001b[39m \u001b[43mserver\u001b[49m\u001b[38;5;241;43m.\u001b[39;49m\u001b[43mfit\u001b[49m\u001b[43m(\u001b[49m\u001b[43mnum_rounds\u001b[49m\u001b[38;5;241;43m=\u001b[39;49m\u001b[43mconfig\u001b[49m\u001b[38;5;241;43m.\u001b[39;49m\u001b[43mnum_rounds\u001b[49m\u001b[43m,\u001b[49m\u001b[43m \u001b[49m\u001b[43mtimeout\u001b[49m\u001b[38;5;241;43m=\u001b[39;49m\u001b[43mconfig\u001b[49m\u001b[38;5;241;43m.\u001b[39;49m\u001b[43mround_timeout\u001b[49m\u001b[43m)\u001b[49m\n\u001b[0;32m    226\u001b[0m     log(INFO, \u001b[38;5;124m\"\u001b[39m\u001b[38;5;124mapp_fit: losses_distributed \u001b[39m\u001b[38;5;132;01m%s\u001b[39;00m\u001b[38;5;124m\"\u001b[39m, \u001b[38;5;28mstr\u001b[39m(hist\u001b[38;5;241m.\u001b[39mlosses_distributed))\n\u001b[0;32m    227\u001b[0m     log(INFO, \u001b[38;5;124m\"\u001b[39m\u001b[38;5;124mapp_fit: metrics_distributed_fit \u001b[39m\u001b[38;5;132;01m%s\u001b[39;00m\u001b[38;5;124m\"\u001b[39m, \u001b[38;5;28mstr\u001b[39m(hist\u001b[38;5;241m.\u001b[39mmetrics_distributed_fit))\n",
      "File \u001b[1;32mc:\\Users\\adamc\\AppData\\Local\\Programs\\Python\\Python311\\Lib\\site-packages\\flwr\\server\\server.py:90\u001b[0m, in \u001b[0;36mServer.fit\u001b[1;34m(self, num_rounds, timeout)\u001b[0m\n\u001b[0;32m     88\u001b[0m \u001b[38;5;66;03m# Initialize parameters\u001b[39;00m\n\u001b[0;32m     89\u001b[0m log(INFO, \u001b[38;5;124m\"\u001b[39m\u001b[38;5;124mInitializing global parameters\u001b[39m\u001b[38;5;124m\"\u001b[39m)\n\u001b[1;32m---> 90\u001b[0m \u001b[38;5;28mself\u001b[39m\u001b[38;5;241m.\u001b[39mparameters \u001b[38;5;241m=\u001b[39m \u001b[38;5;28;43mself\u001b[39;49m\u001b[38;5;241;43m.\u001b[39;49m\u001b[43m_get_initial_parameters\u001b[49m\u001b[43m(\u001b[49m\u001b[43mtimeout\u001b[49m\u001b[38;5;241;43m=\u001b[39;49m\u001b[43mtimeout\u001b[49m\u001b[43m)\u001b[49m\n\u001b[0;32m     91\u001b[0m log(INFO, \u001b[38;5;124m\"\u001b[39m\u001b[38;5;124mEvaluating initial parameters\u001b[39m\u001b[38;5;124m\"\u001b[39m)\n\u001b[0;32m     92\u001b[0m res \u001b[38;5;241m=\u001b[39m \u001b[38;5;28mself\u001b[39m\u001b[38;5;241m.\u001b[39mstrategy\u001b[38;5;241m.\u001b[39mevaluate(\u001b[38;5;241m0\u001b[39m, parameters\u001b[38;5;241m=\u001b[39m\u001b[38;5;28mself\u001b[39m\u001b[38;5;241m.\u001b[39mparameters)\n",
      "File \u001b[1;32mc:\\Users\\adamc\\AppData\\Local\\Programs\\Python\\Python311\\Lib\\site-packages\\flwr\\server\\server.py:279\u001b[0m, in \u001b[0;36mServer._get_initial_parameters\u001b[1;34m(self, timeout)\u001b[0m\n\u001b[0;32m    277\u001b[0m random_client \u001b[38;5;241m=\u001b[39m \u001b[38;5;28mself\u001b[39m\u001b[38;5;241m.\u001b[39m_client_manager\u001b[38;5;241m.\u001b[39msample(\u001b[38;5;241m1\u001b[39m)[\u001b[38;5;241m0\u001b[39m]\n\u001b[0;32m    278\u001b[0m ins \u001b[38;5;241m=\u001b[39m GetParametersIns(config\u001b[38;5;241m=\u001b[39m{})\n\u001b[1;32m--> 279\u001b[0m get_parameters_res \u001b[38;5;241m=\u001b[39m \u001b[43mrandom_client\u001b[49m\u001b[38;5;241;43m.\u001b[39;49m\u001b[43mget_parameters\u001b[49m\u001b[43m(\u001b[49m\u001b[43mins\u001b[49m\u001b[38;5;241;43m=\u001b[39;49m\u001b[43mins\u001b[49m\u001b[43m,\u001b[49m\u001b[43m \u001b[49m\u001b[43mtimeout\u001b[49m\u001b[38;5;241;43m=\u001b[39;49m\u001b[43mtimeout\u001b[49m\u001b[43m)\u001b[49m\n\u001b[0;32m    280\u001b[0m log(INFO, \u001b[38;5;124m\"\u001b[39m\u001b[38;5;124mReceived initial parameters from one random client\u001b[39m\u001b[38;5;124m\"\u001b[39m)\n\u001b[0;32m    281\u001b[0m \u001b[38;5;28;01mreturn\u001b[39;00m get_parameters_res\u001b[38;5;241m.\u001b[39mparameters\n",
      "File \u001b[1;32mc:\\Users\\adamc\\AppData\\Local\\Programs\\Python\\Python311\\Lib\\site-packages\\flwr\\server\\fleet\\grpc_bidi\\grpc_client_proxy.py:67\u001b[0m, in \u001b[0;36mGrpcClientProxy.get_parameters\u001b[1;34m(self, ins, timeout)\u001b[0m\n\u001b[0;32m     65\u001b[0m \u001b[38;5;250m\u001b[39m\u001b[38;5;124;03m\"\"\"Return the current local model parameters.\"\"\"\u001b[39;00m\n\u001b[0;32m     66\u001b[0m get_parameters_msg \u001b[38;5;241m=\u001b[39m serde\u001b[38;5;241m.\u001b[39mget_parameters_ins_to_proto(ins)\n\u001b[1;32m---> 67\u001b[0m res_wrapper: ResWrapper \u001b[38;5;241m=\u001b[39m \u001b[38;5;28;43mself\u001b[39;49m\u001b[38;5;241;43m.\u001b[39;49m\u001b[43mbridge\u001b[49m\u001b[38;5;241;43m.\u001b[39;49m\u001b[43mrequest\u001b[49m\u001b[43m(\u001b[49m\n\u001b[0;32m     68\u001b[0m \u001b[43m    \u001b[49m\u001b[43mins_wrapper\u001b[49m\u001b[38;5;241;43m=\u001b[39;49m\u001b[43mInsWrapper\u001b[49m\u001b[43m(\u001b[49m\n\u001b[0;32m     69\u001b[0m \u001b[43m        \u001b[49m\u001b[43mserver_message\u001b[49m\u001b[38;5;241;43m=\u001b[39;49m\u001b[43mServerMessage\u001b[49m\u001b[43m(\u001b[49m\u001b[43mget_parameters_ins\u001b[49m\u001b[38;5;241;43m=\u001b[39;49m\u001b[43mget_parameters_msg\u001b[49m\u001b[43m)\u001b[49m\u001b[43m,\u001b[49m\n\u001b[0;32m     70\u001b[0m \u001b[43m        \u001b[49m\u001b[43mtimeout\u001b[49m\u001b[38;5;241;43m=\u001b[39;49m\u001b[43mtimeout\u001b[49m\u001b[43m,\u001b[49m\n\u001b[0;32m     71\u001b[0m \u001b[43m    \u001b[49m\u001b[43m)\u001b[49m\n\u001b[0;32m     72\u001b[0m \u001b[43m\u001b[49m\u001b[43m)\u001b[49m\n\u001b[0;32m     73\u001b[0m client_msg: ClientMessage \u001b[38;5;241m=\u001b[39m res_wrapper\u001b[38;5;241m.\u001b[39mclient_message\n\u001b[0;32m     74\u001b[0m get_parameters_res \u001b[38;5;241m=\u001b[39m serde\u001b[38;5;241m.\u001b[39mget_parameters_res_from_proto(\n\u001b[0;32m     75\u001b[0m     client_msg\u001b[38;5;241m.\u001b[39mget_parameters_res\n\u001b[0;32m     76\u001b[0m )\n",
      "File \u001b[1;32mc:\\Users\\adamc\\AppData\\Local\\Programs\\Python\\Python311\\Lib\\site-packages\\flwr\\server\\fleet\\grpc_bidi\\grpc_bridge.py:146\u001b[0m, in \u001b[0;36mGrpcBridge.request\u001b[1;34m(self, ins_wrapper)\u001b[0m\n\u001b[0;32m    141\u001b[0m \u001b[38;5;28;01mwith\u001b[39;00m \u001b[38;5;28mself\u001b[39m\u001b[38;5;241m.\u001b[39m_cv:\n\u001b[0;32m    142\u001b[0m     \u001b[38;5;28mself\u001b[39m\u001b[38;5;241m.\u001b[39m_cv\u001b[38;5;241m.\u001b[39mwait_for(\n\u001b[0;32m    143\u001b[0m         \u001b[38;5;28;01mlambda\u001b[39;00m: \u001b[38;5;28mself\u001b[39m\u001b[38;5;241m.\u001b[39m_status \u001b[38;5;129;01min\u001b[39;00m [Status\u001b[38;5;241m.\u001b[39mCLOSED, Status\u001b[38;5;241m.\u001b[39mRES_WRAPPER_AVAILABLE]\n\u001b[0;32m    144\u001b[0m     )\n\u001b[1;32m--> 146\u001b[0m     \u001b[38;5;28;43mself\u001b[39;49m\u001b[38;5;241;43m.\u001b[39;49m\u001b[43m_raise_if_closed\u001b[49m\u001b[43m(\u001b[49m\u001b[43m)\u001b[49m\n\u001b[0;32m    147\u001b[0m     res_wrapper \u001b[38;5;241m=\u001b[39m \u001b[38;5;28mself\u001b[39m\u001b[38;5;241m.\u001b[39m_res_wrapper  \u001b[38;5;66;03m# Read\u001b[39;00m\n\u001b[0;32m    148\u001b[0m     \u001b[38;5;28mself\u001b[39m\u001b[38;5;241m.\u001b[39m_res_wrapper \u001b[38;5;241m=\u001b[39m \u001b[38;5;28;01mNone\u001b[39;00m  \u001b[38;5;66;03m# Reset\u001b[39;00m\n",
      "File \u001b[1;32mc:\\Users\\adamc\\AppData\\Local\\Programs\\Python\\Python311\\Lib\\site-packages\\flwr\\server\\fleet\\grpc_bidi\\grpc_bridge.py:81\u001b[0m, in \u001b[0;36mGrpcBridge._raise_if_closed\u001b[1;34m(self)\u001b[0m\n\u001b[0;32m     79\u001b[0m \u001b[38;5;28;01mdef\u001b[39;00m \u001b[38;5;21m_raise_if_closed\u001b[39m(\u001b[38;5;28mself\u001b[39m) \u001b[38;5;241m-\u001b[39m\u001b[38;5;241m>\u001b[39m \u001b[38;5;28;01mNone\u001b[39;00m:\n\u001b[0;32m     80\u001b[0m     \u001b[38;5;28;01mif\u001b[39;00m \u001b[38;5;28mself\u001b[39m\u001b[38;5;241m.\u001b[39m_status \u001b[38;5;241m==\u001b[39m Status\u001b[38;5;241m.\u001b[39mCLOSED:\n\u001b[1;32m---> 81\u001b[0m         \u001b[38;5;28;01mraise\u001b[39;00m GrpcBridgeClosed()\n",
      "\u001b[1;31mGrpcBridgeClosed\u001b[0m: "
     ]
    }
   ],
   "source": [
    "import flwr as fl\n",
    "import QRF_Utils\n",
    "import pandas as pd\n",
    "import numpy as np\n",
    "from flwr.common import NDArrays, Scalar\n",
    "from sklearn.metrics import log_loss\n",
    "from quantile_forest import RandomForestQuantileRegressor  # Import RandomForestQuantileRegressor\n",
    "from sklearn.model_selection import train_test_split\n",
    "from sklearn.metrics import confusion_matrix, ConfusionMatrixDisplay\n",
    "from sklearn.metrics import precision_score, recall_score, f1_score, roc_auc_score, roc_curve, precision_recall_curve\n",
    "import matplotlib.pyplot as plt\n",
    "from typing import Dict, Tuple, Optional\n",
    "\n",
    "def fit_round(server_round: int) -> Dict:\n",
    "    \"\"\"Send round number to client.\"\"\"\n",
    "    return {\"server_round\": server_round}\n",
    "\n",
    "def get_evaluate_fn(model: RandomForestQuantileRegressor):  # Change model type to RandomForestQuantileRegressor\n",
    "    \"\"\"Return an evaluation function for server-side evaluation.\"\"\"\n",
    "    (X_train, y_train),(X_test, y_test) = QRF_Utils.load_Data()\n",
    "\n",
    "    def evaluate(\n",
    "        server_round: int, parameters: NDArrays, config: Dict[str, Scalar]\n",
    "    ) -> Optional[Tuple[float, Dict[str, Scalar]]]:\n",
    "        QRF_Utils.set_model_params(model, parameters)\n",
    "        predictions = model.predict(X_test)\n",
    "        probabilities = model.predict(X_test, quantiles=[0.5])[:, 0]  # Predict median\n",
    "        loss = log_loss(y_test, probabilities)\n",
    "        accuracy = model.score(X_test, y_test)\n",
    "        # Calculate and plot confusion matrix only in the last round\n",
    "        if server_round == 100:\n",
    "            cm = confusion_matrix(y_test, predictions, normalize='true')\n",
    "            disp = ConfusionMatrixDisplay(confusion_matrix=cm, display_labels=model.classes_)\n",
    "            disp.plot()\n",
    "            plt.show()\n",
    "            # Calculate Precision, Recall, F1 Score, and ROC AUC\n",
    "            precision = precision_score(y_test, predictions)\n",
    "            recall = recall_score(y_test, predictions)\n",
    "            f1 = f1_score(y_test, predictions)\n",
    "            roc_auc = roc_auc_score(y_test, probabilities)\n",
    "            # Plot Precision, Recall, F1 Score, and ROC AUC\n",
    "            metrics = [loss, accuracy, precision, recall, f1, roc_auc]\n",
    "            metric_names = ['Loss', 'Accuracy', 'Precision', 'Recall', 'F1 Score', 'ROC AUC']\n",
    "            plt.bar(metric_names, metrics)\n",
    "            plt.title('Model Metrics')\n",
    "            plt.show()\n",
    "            # Plot ROC curve\n",
    "            fpr, tpr, _ = roc_curve(y_test, probabilities)\n",
    "            plt.plot(fpr, tpr)\n",
    "            plt.title('ROC Curve')\n",
    "            plt.xlabel('False Positive Rate')\n",
    "            plt.ylabel('True Positive Rate')\n",
    "            plt.show()\n",
    "            # Plot Precision-Recall curve\n",
    "            precision, recall, _ = precision_recall_curve(y_test, probabilities)\n",
    "            plt.plot(recall, precision)\n",
    "            plt.title('Precision-Recall Curve')\n",
    "            plt.xlabel('Recall')\n",
    "            plt.ylabel('Precision')\n",
    "            plt.show()\n",
    "        return loss, {\"accuracy\": accuracy}\n",
    "        \n",
    "    return evaluate\n",
    "\n",
    "# Start Flower server for three rounds of federated learning\n",
    "if __name__ == \"__main__\":\n",
    "    model = RandomForestQuantileRegressor()  # Initialize RandomForestQuantileRegressor\n",
    "    QRF_Utils.set_initial_params(model)\n",
    "    strategy = fl.server.strategy.FedAvg(\n",
    "        min_available_clients=2,\n",
    "        evaluate_fn=get_evaluate_fn(model),\n",
    "        on_fit_config_fn=fit_round\n",
    "    )\n",
    "    fl.server.start_server(server_address=\"127.0.0.1:8080\", strategy=strategy, config=fl.server.ServerConfig(num_rounds=100))\n"
   ]
  }
 ],
 "metadata": {
  "kernelspec": {
   "display_name": "Python 3",
   "language": "python",
   "name": "python3"
  },
  "language_info": {
   "codemirror_mode": {
    "name": "ipython",
    "version": 3
   },
   "file_extension": ".py",
   "mimetype": "text/x-python",
   "name": "python",
   "nbconvert_exporter": "python",
   "pygments_lexer": "ipython3",
   "version": "3.11.4"
  }
 },
 "nbformat": 4,
 "nbformat_minor": 2
}
