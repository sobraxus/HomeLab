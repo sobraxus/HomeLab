{
 "cells": [
  {
   "cell_type": "code",
   "execution_count": 1,
   "metadata": {},
   "outputs": [],
   "source": [
    "import flwr as fl\n",
    "import LR_Utils as utils\n",
    "from flwr.common import NDArrays, Scalar\n",
    "from sklearn.metrics import log_loss\n",
    "from sklearn import metrics \n",
    "import pandas as pd\n",
    "from sklearn.linear_model import LogisticRegression\n",
    "from typing import Tuple, Dict, Optional"
   ]
  },
  {
   "cell_type": "code",
   "execution_count": 2,
   "metadata": {},
   "outputs": [],
   "source": [
    "def fit_round(server_round: int) -> Dict:\n",
    "    \"\"\"Send round number to client.\"\"\"\n",
    "    return {\"server_round\": server_round}"
   ]
  },
  {
   "cell_type": "code",
   "execution_count": 3,
   "metadata": {},
   "outputs": [],
   "source": [
    "def get_evaluate_fn(model: LogisticRegression):\n",
    "    \"\"\"Return an evaluation function for server-side evaluation.\"\"\"\n",
    "\n",
    "    _, (X_test, y_test) = utils.load_Data()\n",
    "\n",
    "    def evaluate(\n",
    "        server_round: int, parameters: NDArrays, config: Dict[str, Scalar]\n",
    "    ) -> Optional[Tuple[float, Dict[str, Scalar]]]:\n",
    "        utils.set_model_params(model, parameters)\n",
    "        loss = log_loss(y_test, model.predict_proba(X_test))\n",
    "        accuracy = model.score(X_test, y_test)\n",
    "        return ({\"Sever Loss\":loss}, {\"Server Accuracy\": accuracy})\n",
    "        \n",
    "    return evaluate\n"
   ]
  },
  {
   "cell_type": "code",
   "execution_count": 4,
   "metadata": {},
   "outputs": [],
   "source": [
    "if __name__ == \"__main__\":\n",
    "    model = LogisticRegression()\n",
    "    utils.set_initial_params(model)\n",
    "    strategy = fl.server.strategy.FedAvg(\n",
    "        min_available_clients=2,\n",
    "        evaluate_fn=get_evaluate_fn(model),\n",
    "        on_fit_config_fn=fit_round,\n",
    "\n",
    "    )"
   ]
  },
  {
   "cell_type": "code",
   "execution_count": 5,
   "metadata": {},
   "outputs": [
    {
     "name": "stderr",
     "output_type": "stream",
     "text": [
      "INFO flwr 2024-03-09 16:58:56,336 | app.py:163 | Starting Flower server, config: ServerConfig(num_rounds=300, round_timeout=None)\n",
      "INFO flwr 2024-03-09 16:58:56,373 | app.py:176 | Flower ECE: gRPC server running (300 rounds), SSL is disabled\n",
      "INFO flwr 2024-03-09 16:58:56,374 | server.py:89 | Initializing global parameters\n",
      "INFO flwr 2024-03-09 16:58:56,374 | server.py:276 | Requesting initial parameters from one random client\n",
      "INFO flwr 2024-03-09 16:59:04,310 | server.py:280 | Received initial parameters from one random client\n",
      "INFO flwr 2024-03-09 16:59:04,311 | server.py:91 | Evaluating initial parameters\n",
      "c:\\Users\\adamc\\AppData\\Local\\Programs\\Python\\Python311\\Lib\\site-packages\\sklearn\\base.py:486: UserWarning: X has feature names, but LogisticRegression was fitted without feature names\n",
      "  warnings.warn(\n",
      "c:\\Users\\adamc\\AppData\\Local\\Programs\\Python\\Python311\\Lib\\site-packages\\sklearn\\base.py:486: UserWarning: X has feature names, but LogisticRegression was fitted without feature names\n",
      "  warnings.warn(\n",
      "INFO flwr 2024-03-09 16:59:04,504 | server.py:94 | initial parameters (loss, other metrics): {'Sever Loss': 2.302585092994046}, {'Server Accuracy': 0.008222805227615022}\n",
      "INFO flwr 2024-03-09 16:59:04,505 | server.py:104 | FL starting\n",
      "DEBUG flwr 2024-03-09 16:59:07,094 | server.py:222 | fit_round 1: strategy sampled 2 clients (out of 2)\n",
      "DEBUG flwr 2024-03-09 16:59:07,143 | server.py:236 | fit_round 1 received 0 results and 2 failures\n",
      "c:\\Users\\adamc\\AppData\\Local\\Programs\\Python\\Python311\\Lib\\site-packages\\sklearn\\base.py:486: UserWarning: X has feature names, but LogisticRegression was fitted without feature names\n",
      "  warnings.warn(\n",
      "c:\\Users\\adamc\\AppData\\Local\\Programs\\Python\\Python311\\Lib\\site-packages\\sklearn\\base.py:486: UserWarning: X has feature names, but LogisticRegression was fitted without feature names\n",
      "  warnings.warn(\n",
      "INFO flwr 2024-03-09 16:59:07,393 | server.py:125 | fit progress: (1, {'Sever Loss': 2.302585092994046}, {'Server Accuracy': 0.008222805227615022}, 2.887501199991675)\n",
      "DEBUG flwr 2024-03-09 16:59:28,185 | server.py:173 | evaluate_round 1: strategy sampled 2 clients (out of 2)\n",
      "DEBUG flwr 2024-03-09 16:59:28,426 | server.py:187 | evaluate_round 1 received 2 results and 0 failures\n",
      "WARNING flwr 2024-03-09 16:59:28,427 | fedavg.py:281 | No evaluate_metrics_aggregation_fn provided\n",
      "DEBUG flwr 2024-03-09 16:59:28,427 | server.py:222 | fit_round 2: strategy sampled 2 clients (out of 2)\n",
      "DEBUG flwr 2024-03-09 16:59:28,467 | server.py:236 | fit_round 2 received 0 results and 2 failures\n",
      "c:\\Users\\adamc\\AppData\\Local\\Programs\\Python\\Python311\\Lib\\site-packages\\sklearn\\base.py:486: UserWarning: X has feature names, but LogisticRegression was fitted without feature names\n",
      "  warnings.warn(\n",
      "c:\\Users\\adamc\\AppData\\Local\\Programs\\Python\\Python311\\Lib\\site-packages\\sklearn\\base.py:486: UserWarning: X has feature names, but LogisticRegression was fitted without feature names\n",
      "  warnings.warn(\n",
      "INFO flwr 2024-03-09 16:59:28,671 | server.py:125 | fit progress: (2, {'Sever Loss': 2.302585092994046}, {'Server Accuracy': 0.008222805227615022}, 24.165929200011306)\n",
      "DEBUG flwr 2024-03-09 16:59:40,553 | server.py:173 | evaluate_round 2: strategy sampled 2 clients (out of 2)\n",
      "DEBUG flwr 2024-03-09 16:59:40,834 | server.py:187 | evaluate_round 2 received 2 results and 0 failures\n",
      "DEBUG flwr 2024-03-09 16:59:40,835 | server.py:222 | fit_round 3: strategy sampled 2 clients (out of 2)\n",
      "DEBUG flwr 2024-03-09 16:59:40,879 | server.py:236 | fit_round 3 received 0 results and 2 failures\n",
      "c:\\Users\\adamc\\AppData\\Local\\Programs\\Python\\Python311\\Lib\\site-packages\\sklearn\\base.py:486: UserWarning: X has feature names, but LogisticRegression was fitted without feature names\n",
      "  warnings.warn(\n",
      "c:\\Users\\adamc\\AppData\\Local\\Programs\\Python\\Python311\\Lib\\site-packages\\sklearn\\base.py:486: UserWarning: X has feature names, but LogisticRegression was fitted without feature names\n",
      "  warnings.warn(\n",
      "INFO flwr 2024-03-09 16:59:41,061 | server.py:125 | fit progress: (3, {'Sever Loss': 2.302585092994046}, {'Server Accuracy': 0.008222805227615022}, 36.55615290001151)\n",
      "DEBUG flwr 2024-03-09 16:59:52,674 | server.py:173 | evaluate_round 3: strategy sampled 2 clients (out of 2)\n",
      "DEBUG flwr 2024-03-09 16:59:52,904 | server.py:187 | evaluate_round 3 received 2 results and 0 failures\n",
      "DEBUG flwr 2024-03-09 16:59:52,904 | server.py:222 | fit_round 4: strategy sampled 2 clients (out of 2)\n",
      "DEBUG flwr 2024-03-09 16:59:52,943 | server.py:236 | fit_round 4 received 0 results and 2 failures\n",
      "c:\\Users\\adamc\\AppData\\Local\\Programs\\Python\\Python311\\Lib\\site-packages\\sklearn\\base.py:486: UserWarning: X has feature names, but LogisticRegression was fitted without feature names\n",
      "  warnings.warn(\n",
      "c:\\Users\\adamc\\AppData\\Local\\Programs\\Python\\Python311\\Lib\\site-packages\\sklearn\\base.py:486: UserWarning: X has feature names, but LogisticRegression was fitted without feature names\n",
      "  warnings.warn(\n",
      "INFO flwr 2024-03-09 16:59:53,208 | server.py:125 | fit progress: (4, {'Sever Loss': 2.302585092994046}, {'Server Accuracy': 0.008222805227615022}, 48.702404100011336)\n",
      "DEBUG flwr 2024-03-09 17:00:04,899 | server.py:173 | evaluate_round 4: strategy sampled 2 clients (out of 2)\n",
      "DEBUG flwr 2024-03-09 17:00:05,126 | server.py:187 | evaluate_round 4 received 2 results and 0 failures\n",
      "DEBUG flwr 2024-03-09 17:00:05,126 | server.py:222 | fit_round 5: strategy sampled 2 clients (out of 2)\n",
      "DEBUG flwr 2024-03-09 17:00:05,168 | server.py:236 | fit_round 5 received 0 results and 2 failures\n",
      "c:\\Users\\adamc\\AppData\\Local\\Programs\\Python\\Python311\\Lib\\site-packages\\sklearn\\base.py:486: UserWarning: X has feature names, but LogisticRegression was fitted without feature names\n",
      "  warnings.warn(\n",
      "c:\\Users\\adamc\\AppData\\Local\\Programs\\Python\\Python311\\Lib\\site-packages\\sklearn\\base.py:486: UserWarning: X has feature names, but LogisticRegression was fitted without feature names\n",
      "  warnings.warn(\n",
      "INFO flwr 2024-03-09 17:00:05,436 | server.py:125 | fit progress: (5, {'Sever Loss': 2.302585092994046}, {'Server Accuracy': 0.008222805227615022}, 60.931191999989096)\n",
      "DEBUG flwr 2024-03-09 17:00:19,117 | server.py:173 | evaluate_round 5: strategy sampled 2 clients (out of 2)\n",
      "DEBUG flwr 2024-03-09 17:00:19,349 | server.py:187 | evaluate_round 5 received 2 results and 0 failures\n",
      "DEBUG flwr 2024-03-09 17:00:19,350 | server.py:222 | fit_round 6: strategy sampled 2 clients (out of 2)\n",
      "DEBUG flwr 2024-03-09 17:00:19,388 | server.py:236 | fit_round 6 received 0 results and 2 failures\n",
      "c:\\Users\\adamc\\AppData\\Local\\Programs\\Python\\Python311\\Lib\\site-packages\\sklearn\\base.py:486: UserWarning: X has feature names, but LogisticRegression was fitted without feature names\n",
      "  warnings.warn(\n",
      "c:\\Users\\adamc\\AppData\\Local\\Programs\\Python\\Python311\\Lib\\site-packages\\sklearn\\base.py:486: UserWarning: X has feature names, but LogisticRegression was fitted without feature names\n",
      "  warnings.warn(\n",
      "INFO flwr 2024-03-09 17:00:19,574 | server.py:125 | fit progress: (6, {'Sever Loss': 2.302585092994046}, {'Server Accuracy': 0.008222805227615022}, 75.06842239998514)\n"
     ]
    }
   ],
   "source": [
    "fl.server.start_server(\n",
    "    server_address=\"127.0.0.1:8080\",\n",
    "    strategy=strategy,\n",
    "    config=fl.server.ServerConfig(num_rounds=300)\n",
    ")"
   ]
  },
  {
   "cell_type": "code",
   "execution_count": 26,
   "metadata": {},
   "outputs": [],
   "source": [
    "import matplotlib.pyplot as plt\n",
    "import pandas as pd"
   ]
  },
  {
   "cell_type": "code",
   "execution_count": 27,
   "metadata": {},
   "outputs": [],
   "source": [
    "trainDF = pd.read_csv(r\"C:\\Users\\adamc\\Work\\HomeLab\\ML Dissertation\\Datasets\\UNSW-NB15\\UNSW_NB15_training-set.csv\")\n",
    "testDF = pd.read_csv(r\"C:\\Users\\adamc\\Work\\HomeLab\\ML Dissertation\\Datasets\\UNSW-NB15\\UNSW_NB15_testing-set.csv\")\n"
   ]
  },
  {
   "cell_type": "code",
   "execution_count": 28,
   "metadata": {},
   "outputs": [
    {
     "data": {
      "text/plain": [
       "(82332, 45)"
      ]
     },
     "execution_count": 28,
     "metadata": {},
     "output_type": "execute_result"
    }
   ],
   "source": [
    "trainDF.shape\n",
    "\n",
    "testDF.shape"
   ]
  },
  {
   "cell_type": "code",
   "execution_count": 29,
   "metadata": {},
   "outputs": [],
   "source": [
    "trainDF = trainDF.dropna()\n",
    "trainDF = trainDF.drop_duplicates()\n",
    "\n",
    "testDF = testDF.dropna()\n",
    "testDF = testDF.drop_duplicates()"
   ]
  },
  {
   "cell_type": "code",
   "execution_count": 30,
   "metadata": {},
   "outputs": [],
   "source": [
    "#Removing Redundant Columns\n",
    "trainDF = trainDF.drop(columns='id')\n",
    "trainDF = trainDF.drop(columns='label')\n",
    "\n",
    "testDF = testDF.drop(columns='id')\n",
    "testDF = testDF.drop(columns='label')\n"
   ]
  },
  {
   "cell_type": "code",
   "execution_count": 31,
   "metadata": {},
   "outputs": [
    {
     "data": {
      "text/html": [
       "<div>\n",
       "<style scoped>\n",
       "    .dataframe tbody tr th:only-of-type {\n",
       "        vertical-align: middle;\n",
       "    }\n",
       "\n",
       "    .dataframe tbody tr th {\n",
       "        vertical-align: top;\n",
       "    }\n",
       "\n",
       "    .dataframe thead th {\n",
       "        text-align: right;\n",
       "    }\n",
       "</style>\n",
       "<table border=\"1\" class=\"dataframe\">\n",
       "  <thead>\n",
       "    <tr style=\"text-align: right;\">\n",
       "      <th></th>\n",
       "      <th>dur</th>\n",
       "      <th>proto</th>\n",
       "      <th>service</th>\n",
       "      <th>state</th>\n",
       "      <th>spkts</th>\n",
       "      <th>dpkts</th>\n",
       "      <th>sbytes</th>\n",
       "      <th>dbytes</th>\n",
       "      <th>rate</th>\n",
       "      <th>sttl</th>\n",
       "      <th>...</th>\n",
       "      <th>ct_src_dport_ltm</th>\n",
       "      <th>ct_dst_sport_ltm</th>\n",
       "      <th>ct_dst_src_ltm</th>\n",
       "      <th>is_ftp_login</th>\n",
       "      <th>ct_ftp_cmd</th>\n",
       "      <th>ct_flw_http_mthd</th>\n",
       "      <th>ct_src_ltm</th>\n",
       "      <th>ct_srv_dst</th>\n",
       "      <th>is_sm_ips_ports</th>\n",
       "      <th>attack_cat</th>\n",
       "    </tr>\n",
       "  </thead>\n",
       "  <tbody>\n",
       "    <tr>\n",
       "      <th>0</th>\n",
       "      <td>0.121478</td>\n",
       "      <td>tcp</td>\n",
       "      <td>-</td>\n",
       "      <td>FIN</td>\n",
       "      <td>6</td>\n",
       "      <td>4</td>\n",
       "      <td>258</td>\n",
       "      <td>172</td>\n",
       "      <td>74.087490</td>\n",
       "      <td>252</td>\n",
       "      <td>...</td>\n",
       "      <td>1</td>\n",
       "      <td>1</td>\n",
       "      <td>1</td>\n",
       "      <td>0</td>\n",
       "      <td>0</td>\n",
       "      <td>0</td>\n",
       "      <td>1</td>\n",
       "      <td>1</td>\n",
       "      <td>0</td>\n",
       "      <td>Normal</td>\n",
       "    </tr>\n",
       "    <tr>\n",
       "      <th>1</th>\n",
       "      <td>0.649902</td>\n",
       "      <td>tcp</td>\n",
       "      <td>-</td>\n",
       "      <td>FIN</td>\n",
       "      <td>14</td>\n",
       "      <td>38</td>\n",
       "      <td>734</td>\n",
       "      <td>42014</td>\n",
       "      <td>78.473372</td>\n",
       "      <td>62</td>\n",
       "      <td>...</td>\n",
       "      <td>1</td>\n",
       "      <td>1</td>\n",
       "      <td>2</td>\n",
       "      <td>0</td>\n",
       "      <td>0</td>\n",
       "      <td>0</td>\n",
       "      <td>1</td>\n",
       "      <td>6</td>\n",
       "      <td>0</td>\n",
       "      <td>Normal</td>\n",
       "    </tr>\n",
       "    <tr>\n",
       "      <th>2</th>\n",
       "      <td>1.623129</td>\n",
       "      <td>tcp</td>\n",
       "      <td>-</td>\n",
       "      <td>FIN</td>\n",
       "      <td>8</td>\n",
       "      <td>16</td>\n",
       "      <td>364</td>\n",
       "      <td>13186</td>\n",
       "      <td>14.170161</td>\n",
       "      <td>62</td>\n",
       "      <td>...</td>\n",
       "      <td>1</td>\n",
       "      <td>1</td>\n",
       "      <td>3</td>\n",
       "      <td>0</td>\n",
       "      <td>0</td>\n",
       "      <td>0</td>\n",
       "      <td>2</td>\n",
       "      <td>6</td>\n",
       "      <td>0</td>\n",
       "      <td>Normal</td>\n",
       "    </tr>\n",
       "    <tr>\n",
       "      <th>3</th>\n",
       "      <td>1.681642</td>\n",
       "      <td>tcp</td>\n",
       "      <td>ftp</td>\n",
       "      <td>FIN</td>\n",
       "      <td>12</td>\n",
       "      <td>12</td>\n",
       "      <td>628</td>\n",
       "      <td>770</td>\n",
       "      <td>13.677108</td>\n",
       "      <td>62</td>\n",
       "      <td>...</td>\n",
       "      <td>1</td>\n",
       "      <td>1</td>\n",
       "      <td>3</td>\n",
       "      <td>1</td>\n",
       "      <td>1</td>\n",
       "      <td>0</td>\n",
       "      <td>2</td>\n",
       "      <td>1</td>\n",
       "      <td>0</td>\n",
       "      <td>Normal</td>\n",
       "    </tr>\n",
       "    <tr>\n",
       "      <th>4</th>\n",
       "      <td>0.449454</td>\n",
       "      <td>tcp</td>\n",
       "      <td>-</td>\n",
       "      <td>FIN</td>\n",
       "      <td>10</td>\n",
       "      <td>6</td>\n",
       "      <td>534</td>\n",
       "      <td>268</td>\n",
       "      <td>33.373826</td>\n",
       "      <td>254</td>\n",
       "      <td>...</td>\n",
       "      <td>2</td>\n",
       "      <td>1</td>\n",
       "      <td>40</td>\n",
       "      <td>0</td>\n",
       "      <td>0</td>\n",
       "      <td>0</td>\n",
       "      <td>2</td>\n",
       "      <td>39</td>\n",
       "      <td>0</td>\n",
       "      <td>Normal</td>\n",
       "    </tr>\n",
       "    <tr>\n",
       "      <th>...</th>\n",
       "      <td>...</td>\n",
       "      <td>...</td>\n",
       "      <td>...</td>\n",
       "      <td>...</td>\n",
       "      <td>...</td>\n",
       "      <td>...</td>\n",
       "      <td>...</td>\n",
       "      <td>...</td>\n",
       "      <td>...</td>\n",
       "      <td>...</td>\n",
       "      <td>...</td>\n",
       "      <td>...</td>\n",
       "      <td>...</td>\n",
       "      <td>...</td>\n",
       "      <td>...</td>\n",
       "      <td>...</td>\n",
       "      <td>...</td>\n",
       "      <td>...</td>\n",
       "      <td>...</td>\n",
       "      <td>...</td>\n",
       "      <td>...</td>\n",
       "    </tr>\n",
       "    <tr>\n",
       "      <th>175336</th>\n",
       "      <td>0.000009</td>\n",
       "      <td>udp</td>\n",
       "      <td>dns</td>\n",
       "      <td>INT</td>\n",
       "      <td>2</td>\n",
       "      <td>0</td>\n",
       "      <td>114</td>\n",
       "      <td>0</td>\n",
       "      <td>111111.107200</td>\n",
       "      <td>254</td>\n",
       "      <td>...</td>\n",
       "      <td>24</td>\n",
       "      <td>13</td>\n",
       "      <td>24</td>\n",
       "      <td>0</td>\n",
       "      <td>0</td>\n",
       "      <td>0</td>\n",
       "      <td>24</td>\n",
       "      <td>24</td>\n",
       "      <td>0</td>\n",
       "      <td>Generic</td>\n",
       "    </tr>\n",
       "    <tr>\n",
       "      <th>175337</th>\n",
       "      <td>0.505762</td>\n",
       "      <td>tcp</td>\n",
       "      <td>-</td>\n",
       "      <td>FIN</td>\n",
       "      <td>10</td>\n",
       "      <td>8</td>\n",
       "      <td>620</td>\n",
       "      <td>354</td>\n",
       "      <td>33.612649</td>\n",
       "      <td>254</td>\n",
       "      <td>...</td>\n",
       "      <td>1</td>\n",
       "      <td>1</td>\n",
       "      <td>2</td>\n",
       "      <td>0</td>\n",
       "      <td>0</td>\n",
       "      <td>0</td>\n",
       "      <td>1</td>\n",
       "      <td>1</td>\n",
       "      <td>0</td>\n",
       "      <td>Shellcode</td>\n",
       "    </tr>\n",
       "    <tr>\n",
       "      <th>175338</th>\n",
       "      <td>0.000009</td>\n",
       "      <td>udp</td>\n",
       "      <td>dns</td>\n",
       "      <td>INT</td>\n",
       "      <td>2</td>\n",
       "      <td>0</td>\n",
       "      <td>114</td>\n",
       "      <td>0</td>\n",
       "      <td>111111.107200</td>\n",
       "      <td>254</td>\n",
       "      <td>...</td>\n",
       "      <td>3</td>\n",
       "      <td>3</td>\n",
       "      <td>13</td>\n",
       "      <td>0</td>\n",
       "      <td>0</td>\n",
       "      <td>0</td>\n",
       "      <td>3</td>\n",
       "      <td>12</td>\n",
       "      <td>0</td>\n",
       "      <td>Generic</td>\n",
       "    </tr>\n",
       "    <tr>\n",
       "      <th>175339</th>\n",
       "      <td>0.000009</td>\n",
       "      <td>udp</td>\n",
       "      <td>dns</td>\n",
       "      <td>INT</td>\n",
       "      <td>2</td>\n",
       "      <td>0</td>\n",
       "      <td>114</td>\n",
       "      <td>0</td>\n",
       "      <td>111111.107200</td>\n",
       "      <td>254</td>\n",
       "      <td>...</td>\n",
       "      <td>30</td>\n",
       "      <td>14</td>\n",
       "      <td>30</td>\n",
       "      <td>0</td>\n",
       "      <td>0</td>\n",
       "      <td>0</td>\n",
       "      <td>30</td>\n",
       "      <td>30</td>\n",
       "      <td>0</td>\n",
       "      <td>Generic</td>\n",
       "    </tr>\n",
       "    <tr>\n",
       "      <th>175340</th>\n",
       "      <td>0.000009</td>\n",
       "      <td>udp</td>\n",
       "      <td>dns</td>\n",
       "      <td>INT</td>\n",
       "      <td>2</td>\n",
       "      <td>0</td>\n",
       "      <td>114</td>\n",
       "      <td>0</td>\n",
       "      <td>111111.107200</td>\n",
       "      <td>254</td>\n",
       "      <td>...</td>\n",
       "      <td>30</td>\n",
       "      <td>16</td>\n",
       "      <td>30</td>\n",
       "      <td>0</td>\n",
       "      <td>0</td>\n",
       "      <td>0</td>\n",
       "      <td>30</td>\n",
       "      <td>30</td>\n",
       "      <td>0</td>\n",
       "      <td>Generic</td>\n",
       "    </tr>\n",
       "  </tbody>\n",
       "</table>\n",
       "<p>175341 rows × 43 columns</p>\n",
       "</div>"
      ],
      "text/plain": [
       "             dur proto service state  spkts  dpkts  sbytes  dbytes  \\\n",
       "0       0.121478   tcp       -   FIN      6      4     258     172   \n",
       "1       0.649902   tcp       -   FIN     14     38     734   42014   \n",
       "2       1.623129   tcp       -   FIN      8     16     364   13186   \n",
       "3       1.681642   tcp     ftp   FIN     12     12     628     770   \n",
       "4       0.449454   tcp       -   FIN     10      6     534     268   \n",
       "...          ...   ...     ...   ...    ...    ...     ...     ...   \n",
       "175336  0.000009   udp     dns   INT      2      0     114       0   \n",
       "175337  0.505762   tcp       -   FIN     10      8     620     354   \n",
       "175338  0.000009   udp     dns   INT      2      0     114       0   \n",
       "175339  0.000009   udp     dns   INT      2      0     114       0   \n",
       "175340  0.000009   udp     dns   INT      2      0     114       0   \n",
       "\n",
       "                 rate  sttl  ...  ct_src_dport_ltm  ct_dst_sport_ltm  \\\n",
       "0           74.087490   252  ...                 1                 1   \n",
       "1           78.473372    62  ...                 1                 1   \n",
       "2           14.170161    62  ...                 1                 1   \n",
       "3           13.677108    62  ...                 1                 1   \n",
       "4           33.373826   254  ...                 2                 1   \n",
       "...               ...   ...  ...               ...               ...   \n",
       "175336  111111.107200   254  ...                24                13   \n",
       "175337      33.612649   254  ...                 1                 1   \n",
       "175338  111111.107200   254  ...                 3                 3   \n",
       "175339  111111.107200   254  ...                30                14   \n",
       "175340  111111.107200   254  ...                30                16   \n",
       "\n",
       "        ct_dst_src_ltm  is_ftp_login  ct_ftp_cmd  ct_flw_http_mthd  \\\n",
       "0                    1             0           0                 0   \n",
       "1                    2             0           0                 0   \n",
       "2                    3             0           0                 0   \n",
       "3                    3             1           1                 0   \n",
       "4                   40             0           0                 0   \n",
       "...                ...           ...         ...               ...   \n",
       "175336              24             0           0                 0   \n",
       "175337               2             0           0                 0   \n",
       "175338              13             0           0                 0   \n",
       "175339              30             0           0                 0   \n",
       "175340              30             0           0                 0   \n",
       "\n",
       "        ct_src_ltm  ct_srv_dst  is_sm_ips_ports  attack_cat  \n",
       "0                1           1                0      Normal  \n",
       "1                1           6                0      Normal  \n",
       "2                2           6                0      Normal  \n",
       "3                2           1                0      Normal  \n",
       "4                2          39                0      Normal  \n",
       "...            ...         ...              ...         ...  \n",
       "175336          24          24                0     Generic  \n",
       "175337           1           1                0   Shellcode  \n",
       "175338           3          12                0     Generic  \n",
       "175339          30          30                0     Generic  \n",
       "175340          30          30                0     Generic  \n",
       "\n",
       "[175341 rows x 43 columns]"
      ]
     },
     "execution_count": 31,
     "metadata": {},
     "output_type": "execute_result"
    }
   ],
   "source": [
    "trainDF"
   ]
  },
  {
   "cell_type": "code",
   "execution_count": 32,
   "metadata": {},
   "outputs": [],
   "source": [
    "#Import one hot encoder from sklearn\n",
    "\n",
    "from sklearn.preprocessing import OneHotEncoder\n",
    "\n",
    "enc = OneHotEncoder(sparse_output=False, handle_unknown='ignore')\n",
    "enc.fit(trainDF[['proto','service','state','attack_cat']])  # Fit encoder on training data\n",
    "\n",
    "train_encoded = enc.transform(trainDF[['proto','service','state','attack_cat']])\n",
    "test_encoded = enc.transform(testDF[['proto','service','state','attack_cat']])\n",
    "\n",
    "# Replace 'proto','service','state','attack_cat' column with encoded data\n",
    "trainDF = pd.concat([trainDF.drop(['proto','service','state','attack_cat'], axis=1), pd.DataFrame(train_encoded, columns=enc.get_feature_names_out(['proto','service','state','attack_cat']))], axis=1)\n",
    "testDF = pd.concat([testDF.drop(['proto','service','state','attack_cat'], axis=1), pd.DataFrame(test_encoded, columns=enc.get_feature_names_out(['proto','service','state','attack_cat']))], axis=1)\n",
    "    \n"
   ]
  },
  {
   "cell_type": "code",
   "execution_count": 33,
   "metadata": {},
   "outputs": [
    {
     "data": {
      "text/plain": [
       "(175341, 204)"
      ]
     },
     "execution_count": 33,
     "metadata": {},
     "output_type": "execute_result"
    }
   ],
   "source": [
    "trainDF.shape"
   ]
  },
  {
   "cell_type": "code",
   "execution_count": 34,
   "metadata": {},
   "outputs": [],
   "source": [
    "#Create classes variable listing all outcomes of dataset\n",
    "class_name = ['attack_cat_Analysis',\n",
    " 'attack_cat_Backdoor',\n",
    " 'attack_cat_DoS',\n",
    " 'attack_cat_Exploits',\n",
    " 'attack_cat_Fuzzers',\n",
    " 'attack_cat_Generic',\n",
    " 'attack_cat_Normal',\n",
    " 'attack_cat_Reconnaissance',\n",
    " 'attack_cat_Shellcode',\n",
    " 'attack_cat_Worms']\n",
    "# Select everything other than classes\n",
    "x_train = trainDF.drop(columns=class_name)\n",
    "x_test = testDF.drop(columns=class_name)\n",
    "# Select only classes\n",
    "y_test = testDF[class_name]\n",
    "y_train = trainDF[class_name]\n"
   ]
  },
  {
   "cell_type": "code",
   "execution_count": 35,
   "metadata": {},
   "outputs": [
    {
     "data": {
      "text/plain": [
       "(175341, 204)"
      ]
     },
     "execution_count": 35,
     "metadata": {},
     "output_type": "execute_result"
    }
   ],
   "source": [
    "trainDF.shape"
   ]
  },
  {
   "cell_type": "code",
   "execution_count": 36,
   "metadata": {},
   "outputs": [
    {
     "data": {
      "text/plain": [
       "(175341, 10)"
      ]
     },
     "execution_count": 36,
     "metadata": {},
     "output_type": "execute_result"
    }
   ],
   "source": [
    "y_train.shape"
   ]
  },
  {
   "cell_type": "code",
   "execution_count": 37,
   "metadata": {},
   "outputs": [],
   "source": [
    "import numpy as np\n",
    "y_test = np.argmax(y_test,axis=1)\n",
    "y_train = np.argmax(y_train,axis=1)"
   ]
  },
  {
   "cell_type": "code",
   "execution_count": 38,
   "metadata": {},
   "outputs": [
    {
     "data": {
      "text/plain": [
       "(82332,)"
      ]
     },
     "execution_count": 38,
     "metadata": {},
     "output_type": "execute_result"
    }
   ],
   "source": [
    "y_test.shape"
   ]
  },
  {
   "cell_type": "code",
   "execution_count": 39,
   "metadata": {},
   "outputs": [
    {
     "name": "stdout",
     "output_type": "stream",
     "text": [
      "Unique values: [0 1 2 3 4 5 6 7 8 9]\n",
      "Counts: [  677   583  4089 11132  6062 18871 37000  3496   378    44]\n"
     ]
    }
   ],
   "source": [
    "unique, counts = np.unique(y_test, return_counts=True)\n",
    "print(\"Unique values:\", unique)\n",
    "print(\"Counts:\", counts)"
   ]
  },
  {
   "cell_type": "code",
   "execution_count": 40,
   "metadata": {},
   "outputs": [
    {
     "data": {
      "text/plain": [
       "(175341, 204)"
      ]
     },
     "execution_count": 40,
     "metadata": {},
     "output_type": "execute_result"
    }
   ],
   "source": [
    "trainDF.shape"
   ]
  },
  {
   "cell_type": "code",
   "execution_count": 41,
   "metadata": {},
   "outputs": [
    {
     "data": {
      "text/plain": [
       "(82332, 204)"
      ]
     },
     "execution_count": 41,
     "metadata": {},
     "output_type": "execute_result"
    }
   ],
   "source": [
    "testDF.shape"
   ]
  },
  {
   "cell_type": "code",
   "execution_count": 42,
   "metadata": {},
   "outputs": [
    {
     "data": {
      "text/plain": [
       "(82332, 194)"
      ]
     },
     "execution_count": 42,
     "metadata": {},
     "output_type": "execute_result"
    }
   ],
   "source": [
    "x_test.shape"
   ]
  },
  {
   "cell_type": "code",
   "execution_count": 43,
   "metadata": {},
   "outputs": [
    {
     "data": {
      "text/plain": [
       "(175341, 194)"
      ]
     },
     "execution_count": 43,
     "metadata": {},
     "output_type": "execute_result"
    }
   ],
   "source": [
    "x_train.shape"
   ]
  },
  {
   "cell_type": "code",
   "execution_count": 44,
   "metadata": {},
   "outputs": [
    {
     "data": {
      "text/plain": [
       "(82332,)"
      ]
     },
     "execution_count": 44,
     "metadata": {},
     "output_type": "execute_result"
    }
   ],
   "source": [
    "y_test.shape"
   ]
  },
  {
   "cell_type": "code",
   "execution_count": 45,
   "metadata": {},
   "outputs": [
    {
     "data": {
      "text/plain": [
       "(175341,)"
      ]
     },
     "execution_count": 45,
     "metadata": {},
     "output_type": "execute_result"
    }
   ],
   "source": [
    "y_train.shape"
   ]
  },
  {
   "cell_type": "code",
   "execution_count": 46,
   "metadata": {},
   "outputs": [
    {
     "data": {
      "text/plain": [
       "['attack_cat_Analysis',\n",
       " 'attack_cat_Backdoor',\n",
       " 'attack_cat_DoS',\n",
       " 'attack_cat_Exploits',\n",
       " 'attack_cat_Fuzzers',\n",
       " 'attack_cat_Generic',\n",
       " 'attack_cat_Normal',\n",
       " 'attack_cat_Reconnaissance',\n",
       " 'attack_cat_Shellcode',\n",
       " 'attack_cat_Worms']"
      ]
     },
     "execution_count": 46,
     "metadata": {},
     "output_type": "execute_result"
    }
   ],
   "source": [
    "target_columns = [col for col in trainDF.columns if col.startswith('attack_cat')]\n",
    "target_columns"
   ]
  },
  {
   "cell_type": "code",
   "execution_count": null,
   "metadata": {},
   "outputs": [],
   "source": []
  },
  {
   "cell_type": "code",
   "execution_count": null,
   "metadata": {},
   "outputs": [],
   "source": []
  },
  {
   "cell_type": "code",
   "execution_count": null,
   "metadata": {},
   "outputs": [],
   "source": []
  },
  {
   "cell_type": "code",
   "execution_count": 47,
   "metadata": {},
   "outputs": [],
   "source": [
    "#Imports minmaxscaler to normalise (Scale) data\n",
    "from sklearn.preprocessing import MinMaxScaler\n",
    "\n",
    "scaler = MinMaxScaler()\n",
    "\n",
    "scaler.fit(trainDF)\n",
    "\n",
    "trainDF = scaler.transform(trainDF)\n",
    "testDF = scaler.transform(testDF)"
   ]
  },
  {
   "cell_type": "code",
   "execution_count": 48,
   "metadata": {},
   "outputs": [
    {
     "data": {
      "text/plain": [
       "array([[2.02463370e-03, 5.20020801e-04, 3.64497904e-04, ...,\n",
       "        0.00000000e+00, 0.00000000e+00, 0.00000000e+00],\n",
       "       [1.08317020e-02, 1.35205408e-03, 3.46273009e-03, ...,\n",
       "        0.00000000e+00, 0.00000000e+00, 0.00000000e+00],\n",
       "       [2.70521550e-02, 7.28029121e-04, 1.45799162e-03, ...,\n",
       "        0.00000000e+00, 0.00000000e+00, 0.00000000e+00],\n",
       "       ...,\n",
       "       [1.50000028e-07, 1.04004160e-04, 0.00000000e+00, ...,\n",
       "        0.00000000e+00, 0.00000000e+00, 0.00000000e+00],\n",
       "       [1.50000028e-07, 1.04004160e-04, 0.00000000e+00, ...,\n",
       "        0.00000000e+00, 0.00000000e+00, 0.00000000e+00],\n",
       "       [1.50000028e-07, 1.04004160e-04, 0.00000000e+00, ...,\n",
       "        0.00000000e+00, 0.00000000e+00, 0.00000000e+00]])"
      ]
     },
     "execution_count": 48,
     "metadata": {},
     "output_type": "execute_result"
    }
   ],
   "source": [
    "trainDF"
   ]
  }
 ],
 "metadata": {
  "kernelspec": {
   "display_name": "Python 3",
   "language": "python",
   "name": "python3"
  },
  "language_info": {
   "codemirror_mode": {
    "name": "ipython",
    "version": 3
   },
   "file_extension": ".py",
   "mimetype": "text/x-python",
   "name": "python",
   "nbconvert_exporter": "python",
   "pygments_lexer": "ipython3",
   "version": "3.11.4"
  }
 },
 "nbformat": 4,
 "nbformat_minor": 2
}
